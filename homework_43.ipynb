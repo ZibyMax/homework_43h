{
 "cells": [
  {
   "cell_type": "code",
   "execution_count": 1,
   "metadata": {},
   "outputs": [],
   "source": [
    "import requests\n",
    "from time import sleep\n",
    "import random\n",
    "\n",
    "import pandas as pd\n",
    "import matplotlib.pyplot as plt\n",
    "%matplotlib inline\n",
    "\n",
    "from scipy.cluster.vq import whiten, kmeans2"
   ]
  },
  {
   "cell_type": "code",
   "execution_count": 2,
   "metadata": {},
   "outputs": [],
   "source": [
    "# Функция запросов к футбольному API\n",
    "def call_football(api_url):\n",
    "    token = {'X-Auth-Token': '7eecbfb6d62b4e5dbd91a81d316b8cc3'}\n",
    "    return requests.get(api_url, headers = token).json()"
   ]
  },
  {
   "cell_type": "code",
   "execution_count": 3,
   "metadata": {},
   "outputs": [],
   "source": [
    "# Получаем нужные данные с api.football-data.org\n",
    "def get_football_data(season):\n",
    "    api_url = 'http://api.football-data.org/v1/competitions/{}/leagueTable'.format(season)\n",
    "    standings = call_football(api_url)\n",
    "    football_data = []\n",
    "    for standing in standings['standing']:\n",
    "        team_data = call_football(standing['_links']['team']['href'])\n",
    "        squad_market_value = team_data['squadMarketValue'] if team_data['squadMarketValue']\\\n",
    "            else random.randint(10000000, 100000000)\n",
    "        football_data.append({'squadMarketValue': squad_market_value, 'losses': standing['losses']})\n",
    "        sleep(0.1)\n",
    "    return football_data"
   ]
  },
  {
   "cell_type": "code",
   "execution_count": 4,
   "metadata": {},
   "outputs": [],
   "source": [
    "season = '459'\n",
    "football_data = get_football_data(season)"
   ]
  },
  {
   "cell_type": "code",
   "execution_count": 5,
   "metadata": {},
   "outputs": [
    {
     "data": {
      "text/plain": [
       "[{'losses': 5, 'squadMarketValue': 79265608},\n",
       " {'losses': 12, 'squadMarketValue': 50276148},\n",
       " {'losses': 8, 'squadMarketValue': 87913422},\n",
       " {'losses': 7, 'squadMarketValue': 59143958},\n",
       " {'losses': 9, 'squadMarketValue': 69857692},\n",
       " {'losses': 11, 'squadMarketValue': 13335640},\n",
       " {'losses': 12, 'squadMarketValue': 95218125},\n",
       " {'losses': 14, 'squadMarketValue': 40387816},\n",
       " {'losses': 16, 'squadMarketValue': 91000762},\n",
       " {'losses': 15, 'squadMarketValue': 22404175},\n",
       " {'losses': 14, 'squadMarketValue': 47427200},\n",
       " {'losses': 13, 'squadMarketValue': 32430307},\n",
       " {'losses': 14, 'squadMarketValue': 84319226},\n",
       " {'losses': 12, 'squadMarketValue': 37794592},\n",
       " {'losses': 16, 'squadMarketValue': 31925962},\n",
       " {'losses': 16, 'squadMarketValue': 77441839},\n",
       " {'losses': 16, 'squadMarketValue': 88759824},\n",
       " {'losses': 18, 'squadMarketValue': 95753056},\n",
       " {'losses': 18, 'squadMarketValue': 18951094},\n",
       " {'losses': 18, 'squadMarketValue': 80662183},\n",
       " {'losses': 20, 'squadMarketValue': 20838642},\n",
       " {'losses': 19, 'squadMarketValue': 26569516}]"
      ]
     },
     "execution_count": 5,
     "metadata": {},
     "output_type": "execute_result"
    }
   ],
   "source": [
    "football_data"
   ]
  },
  {
   "cell_type": "code",
   "execution_count": 6,
   "metadata": {},
   "outputs": [
    {
     "data": {
      "text/html": [
       "<div>\n",
       "<style scoped>\n",
       "    .dataframe tbody tr th:only-of-type {\n",
       "        vertical-align: middle;\n",
       "    }\n",
       "\n",
       "    .dataframe tbody tr th {\n",
       "        vertical-align: top;\n",
       "    }\n",
       "\n",
       "    .dataframe thead th {\n",
       "        text-align: right;\n",
       "    }\n",
       "</style>\n",
       "<table border=\"1\" class=\"dataframe\">\n",
       "  <thead>\n",
       "    <tr style=\"text-align: right;\">\n",
       "      <th></th>\n",
       "      <th>losses</th>\n",
       "      <th>squadMarketValue</th>\n",
       "    </tr>\n",
       "  </thead>\n",
       "  <tbody>\n",
       "    <tr>\n",
       "      <th>0</th>\n",
       "      <td>5</td>\n",
       "      <td>79265608</td>\n",
       "    </tr>\n",
       "    <tr>\n",
       "      <th>1</th>\n",
       "      <td>12</td>\n",
       "      <td>50276148</td>\n",
       "    </tr>\n",
       "    <tr>\n",
       "      <th>2</th>\n",
       "      <td>8</td>\n",
       "      <td>87913422</td>\n",
       "    </tr>\n",
       "    <tr>\n",
       "      <th>3</th>\n",
       "      <td>7</td>\n",
       "      <td>59143958</td>\n",
       "    </tr>\n",
       "    <tr>\n",
       "      <th>4</th>\n",
       "      <td>9</td>\n",
       "      <td>69857692</td>\n",
       "    </tr>\n",
       "    <tr>\n",
       "      <th>5</th>\n",
       "      <td>11</td>\n",
       "      <td>13335640</td>\n",
       "    </tr>\n",
       "    <tr>\n",
       "      <th>6</th>\n",
       "      <td>12</td>\n",
       "      <td>95218125</td>\n",
       "    </tr>\n",
       "    <tr>\n",
       "      <th>7</th>\n",
       "      <td>14</td>\n",
       "      <td>40387816</td>\n",
       "    </tr>\n",
       "    <tr>\n",
       "      <th>8</th>\n",
       "      <td>16</td>\n",
       "      <td>91000762</td>\n",
       "    </tr>\n",
       "    <tr>\n",
       "      <th>9</th>\n",
       "      <td>15</td>\n",
       "      <td>22404175</td>\n",
       "    </tr>\n",
       "    <tr>\n",
       "      <th>10</th>\n",
       "      <td>14</td>\n",
       "      <td>47427200</td>\n",
       "    </tr>\n",
       "    <tr>\n",
       "      <th>11</th>\n",
       "      <td>13</td>\n",
       "      <td>32430307</td>\n",
       "    </tr>\n",
       "    <tr>\n",
       "      <th>12</th>\n",
       "      <td>14</td>\n",
       "      <td>84319226</td>\n",
       "    </tr>\n",
       "    <tr>\n",
       "      <th>13</th>\n",
       "      <td>12</td>\n",
       "      <td>37794592</td>\n",
       "    </tr>\n",
       "    <tr>\n",
       "      <th>14</th>\n",
       "      <td>16</td>\n",
       "      <td>31925962</td>\n",
       "    </tr>\n",
       "    <tr>\n",
       "      <th>15</th>\n",
       "      <td>16</td>\n",
       "      <td>77441839</td>\n",
       "    </tr>\n",
       "    <tr>\n",
       "      <th>16</th>\n",
       "      <td>16</td>\n",
       "      <td>88759824</td>\n",
       "    </tr>\n",
       "    <tr>\n",
       "      <th>17</th>\n",
       "      <td>18</td>\n",
       "      <td>95753056</td>\n",
       "    </tr>\n",
       "    <tr>\n",
       "      <th>18</th>\n",
       "      <td>18</td>\n",
       "      <td>18951094</td>\n",
       "    </tr>\n",
       "    <tr>\n",
       "      <th>19</th>\n",
       "      <td>18</td>\n",
       "      <td>80662183</td>\n",
       "    </tr>\n",
       "    <tr>\n",
       "      <th>20</th>\n",
       "      <td>20</td>\n",
       "      <td>20838642</td>\n",
       "    </tr>\n",
       "    <tr>\n",
       "      <th>21</th>\n",
       "      <td>19</td>\n",
       "      <td>26569516</td>\n",
       "    </tr>\n",
       "  </tbody>\n",
       "</table>\n",
       "</div>"
      ],
      "text/plain": [
       "    losses  squadMarketValue\n",
       "0        5          79265608\n",
       "1       12          50276148\n",
       "2        8          87913422\n",
       "3        7          59143958\n",
       "4        9          69857692\n",
       "5       11          13335640\n",
       "6       12          95218125\n",
       "7       14          40387816\n",
       "8       16          91000762\n",
       "9       15          22404175\n",
       "10      14          47427200\n",
       "11      13          32430307\n",
       "12      14          84319226\n",
       "13      12          37794592\n",
       "14      16          31925962\n",
       "15      16          77441839\n",
       "16      16          88759824\n",
       "17      18          95753056\n",
       "18      18          18951094\n",
       "19      18          80662183\n",
       "20      20          20838642\n",
       "21      19          26569516"
      ]
     },
     "execution_count": 6,
     "metadata": {},
     "output_type": "execute_result"
    }
   ],
   "source": [
    "football_data = pd.DataFrame(football_data)\n",
    "football_data"
   ]
  },
  {
   "cell_type": "code",
   "execution_count": 7,
   "metadata": {},
   "outputs": [
    {
     "data": {
      "text/plain": [
       "array([[1.27588232, 2.82901242],\n",
       "       [3.06211756, 1.79437023],\n",
       "       [2.04141171, 3.1376554 ],\n",
       "       [1.78623525, 2.11086493],\n",
       "       [2.29658817, 2.49324118],\n",
       "       [2.8069411 , 0.47595284],\n",
       "       [3.06211756, 3.39836235],\n",
       "       [3.57247049, 1.44145281],\n",
       "       [4.08282342, 3.24784345],\n",
       "       [3.82764695, 0.79961147],\n",
       "       [3.57247049, 1.69269045],\n",
       "       [3.31729403, 1.15744701],\n",
       "       [3.57247049, 3.0093775 ],\n",
       "       [3.06211756, 1.34889989],\n",
       "       [4.08282342, 1.1394468 ],\n",
       "       [4.08282342, 2.76392158],\n",
       "       [4.08282342, 3.16786373],\n",
       "       [4.59317634, 3.4174542 ],\n",
       "       [4.59317634, 0.67637001],\n",
       "       [4.59317634, 2.87885658],\n",
       "       [5.10352927, 0.74373715],\n",
       "       [4.84835281, 0.94827369]])"
      ]
     },
     "execution_count": 7,
     "metadata": {},
     "output_type": "execute_result"
    }
   ],
   "source": [
    "normalized_football_data = whiten(football_data.as_matrix())\n",
    "normalized_football_data"
   ]
  },
  {
   "cell_type": "code",
   "execution_count": 8,
   "metadata": {},
   "outputs": [],
   "source": [
    "colors_map = {0: 'r', 1: 'g', 2: 'b', 3: 'y', 4: 'm'}"
   ]
  },
  {
   "cell_type": "code",
   "execution_count": 9,
   "metadata": {},
   "outputs": [
    {
     "data": {
      "text/plain": [
       "(array([[1.85002936, 2.64269348],\n",
       "        [4.00991586, 3.12623991],\n",
       "        [3.80444909, 1.11075021]]),\n",
       " array([0, 2, 0, 0, 0, 2, 1, 2, 1, 2, 2, 2, 1, 2, 2, 1, 1, 1, 2, 1, 2, 2]))"
      ]
     },
     "execution_count": 9,
     "metadata": {},
     "output_type": "execute_result"
    }
   ],
   "source": [
    "centroids, cluster_map = kmeans2(normalized_football_data, 3)\n",
    "colors = [colors_map[c] for c in cluster_map]\n",
    "centroids, cluster_map"
   ]
  },
  {
   "cell_type": "code",
   "execution_count": 10,
   "metadata": {},
   "outputs": [
    {
     "data": {
      "text/plain": [
       "<matplotlib.axes._subplots.AxesSubplot at 0x241a4ff7f60>"
      ]
     },
     "execution_count": 10,
     "metadata": {},
     "output_type": "execute_result"
    },
    {
     "data": {
      "image/png": "[encoded data removed]",
      "text/plain": [
       "<matplotlib.figure.Figure at 0x241a4ff7470>"
      ]
     },
     "metadata": {},
     "output_type": "display_data"
    }
   ],
   "source": [
    "football_data.plot.scatter(x='losses', y='squadMarketValue', c=colors, s=50)"
   ]
  },
  {
   "cell_type": "code",
   "execution_count": 11,
   "metadata": {},
   "outputs": [
    {
     "data": {
      "text/plain": [
       "(array([[4.49110576, 0.86148782],\n",
       "        [1.85002936, 2.64269348],\n",
       "        [4.59317634, 3.14815539],\n",
       "        [3.23223521, 1.31846887],\n",
       "        [3.77661166, 3.11747372]]),\n",
       " array([1, 3, 1, 1, 1, 3, 4, 3, 4, 0, 3, 3, 4, 3, 0, 4, 4, 2, 0, 2, 0, 0]))"
      ]
     },
     "execution_count": 11,
     "metadata": {},
     "output_type": "execute_result"
    }
   ],
   "source": [
    "centroids, cluster_map = kmeans2(normalized_football_data, 5)\n",
    "colors = [colors_map[c] for c in cluster_map]\n",
    "centroids, cluster_map"
   ]
  },
  {
   "cell_type": "code",
   "execution_count": 12,
   "metadata": {},
   "outputs": [
    {
     "data": {
      "text/plain": [
       "<matplotlib.axes._subplots.AxesSubplot at 0x241a4ee4048>"
      ]
     },
     "execution_count": 12,
     "metadata": {},
     "output_type": "execute_result"
    },
    {
     "data": {
      "image/png": "[encoded data removed]",
      "text/plain": [
       "<matplotlib.figure.Figure at 0x241a4eec6a0>"
      ]
     },
     "metadata": {},
     "output_type": "display_data"
    }
   ],
   "source": [
    "football_data.plot.scatter(x='losses', y='squadMarketValue', c=colors, s=50)"
   ]
  }
 ],
 "metadata": {
  "kernelspec": {
   "display_name": "Python 3",
   "language": "python",
   "name": "python3"
  },
  "language_info": {
   "codemirror_mode": {
    "name": "ipython",
    "version": 3
   },
   "file_extension": ".py",
   "mimetype": "text/x-python",
   "name": "python",
   "nbconvert_exporter": "python",
   "pygments_lexer": "ipython3",
   "version": "3.6.4"
  }
 },
 "nbformat": 4,
 "nbformat_minor": 2
}
